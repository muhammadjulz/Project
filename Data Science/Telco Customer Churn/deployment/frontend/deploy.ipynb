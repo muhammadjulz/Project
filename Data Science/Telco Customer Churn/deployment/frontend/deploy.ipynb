{
 "cells": [
  {
   "cell_type": "code",
   "execution_count": 4,
   "metadata": {},
   "outputs": [
    {
     "data": {
      "text/plain": [
       "{'label_names': 'Not Churn', 'result': '[[0]]'}"
      ]
     },
     "execution_count": 4,
     "metadata": {},
     "output_type": "execute_result"
    }
   ],
   "source": [
    "import requests\n",
    "\n",
    "URL = 'http://192.168.18.207:5001/predict'\n",
    "new_data = { \n",
    "    'gender': 'Male',\n",
    "    'SeniorCitizen': 0,\n",
    "    'Partner': 'Yes',\n",
    "    'Dependents': 'Yes',\n",
    "    'MultipleLines': 'No',\n",
    "    'InternetService': 'Fiber optic',\n",
    "    'OnlineSecurity': 'Yes',\n",
    "    'OnlineBackup': 'Yes',\n",
    "    'DeviceProtection': 'Yes',\n",
    "    'TechSupport': 'No',\n",
    "    'Contract': 'Month-to-month',\n",
    "    'PaperlessBilling': 'Yes',\n",
    "    'PaymentMethod': 'Bank transfer (automatic)',\n",
    "    'tenure':7,\n",
    "    'MonthlyCharges': 53.85,\n",
    "    'TotalCharges': 108.15\n",
    "}\n",
    "\n",
    "response = requests.post(URL, json=new_data)\n",
    "response_json = response.json()\n",
    "response_json"
   ]
  }
 ],
 "metadata": {
  "kernelspec": {
   "display_name": "Python 3.10.7 64-bit",
   "language": "python",
   "name": "python3"
  },
  "language_info": {
   "codemirror_mode": {
    "name": "ipython",
    "version": 3
   },
   "file_extension": ".py",
   "mimetype": "text/x-python",
   "name": "python",
   "nbconvert_exporter": "python",
   "pygments_lexer": "ipython3",
   "version": "3.10.7"
  },
  "orig_nbformat": 4,
  "vscode": {
   "interpreter": {
    "hash": "40504c34cc0d0808e66074c7de62a5c01802c9147c97fb094e1524d5f521609c"
   }
  }
 },
 "nbformat": 4,
 "nbformat_minor": 2
}
