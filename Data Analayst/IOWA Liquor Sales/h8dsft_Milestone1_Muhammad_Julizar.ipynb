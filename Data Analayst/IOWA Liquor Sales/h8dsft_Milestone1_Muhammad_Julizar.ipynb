{
 "cells": [
  {
   "cell_type": "markdown",
   "metadata": {},
   "source": [
    "URL dashboard = https://public.tableau.com/app/profile/muhammad.julizar/viz/IOWALiquorSalesin2020-2021/Dashboard1?publish=yes"
   ]
  },
  {
   "cell_type": "markdown",
   "metadata": {},
   "source": [
    "# 1. Perkenalan \n",
    "- Nama      : Muhammad Julizar\n",
    "- Batch     : RMT-16"
   ]
  },
  {
   "cell_type": "markdown",
   "metadata": {},
   "source": [
    "# Query from BigQuery \n",
    "```\n",
    "select \n",
    "      invoice_and_item_number, \n",
    "      date,\n",
    "      extract(year from date) as year,\n",
    "      extract(quarter from quarter) as quarter, \n",
    "      item_description,state_bottle_cost, state_bottle_retail,\n",
    "      bottles_sold,sale_dollars,\n",
    "      category_name, store_name,\n",
    "      city, vendor_name,\n",
    "from bigquery-public-data.iowa_liquor_sales.sales\n",
    "where category_name is not null \n",
    "      and date between'2021-01-01' and '2022-12-31';\n",
    "```\n"
   ]
  },
  {
   "cell_type": "markdown",
   "metadata": {},
   "source": [
    "# Problem Statement\n",
    "## Mengetahui perbandingan tingkat penjualan dan keuntungan dari produk-produk minuman keras di negara bagian Iowa setiap bulan pada tahun 2021 hingga 2022"
   ]
  },
  {
   "cell_type": "markdown",
   "metadata": {},
   "source": [
    "### Penjabaran Masalah : \n",
    "1. Berapa total pendapatan dari penjualan minuman keras di negara bagian IOWA, USA dalam usd setiap bulan pada tahun 2021 dan 2022?\n",
    "2. Berapa total profit dari penjualan minuman keras di negara bagian IOWA, USA setiap bulan pada tahun 2021 dan tahun 2022?\n",
    "3. Kota mana sajakah yang memiliki total pendapatan paling banyak dari penjualan minuman keras?\n",
    "4. Produk apa saja yang paling banyak mendapatkan profit?<br>\n",
    "\n",
    "\n",
    "#### Statistik deskriptif<br>\n",
    "5. Apakah terdapat oulier pada data yang ditarik dari BigQuery, jika iya. Berapakah jumlah data outlier?\n",
    "6. Bandingkan central tendency dari nilai rata-rata setiap produk pada data yang terdapat outlier dan tidak! <br>\n",
    "\n",
    "\n",
    "#### Statistik Inferential<br>\n",
    "7. Bandingkan rata-rata profit penjualan minuman keras di negara bagian IOWA, USA pada setiap bulannya dari data populasi dengan data yang anda tarik dari BigQuery! Apakah terdapat penurunan atau peningkatan? (Lakukan hipotesis testing untuk menjawab pertanyaan ini)\n"
   ]
  },
  {
   "cell_type": "code",
   "execution_count": 1,
   "metadata": {},
   "outputs": [],
   "source": [
    "# Import library\n",
    "import pandas as pd\n",
    "import matplotlib.pyplot as plt\n",
    "import numpy as np\n",
    "import scipy.stats as stats\n",
    "from scipy.stats import norm"
   ]
  },
  {
   "cell_type": "markdown",
   "metadata": {},
   "source": [
    "# Data Loading"
   ]
  },
  {
   "cell_type": "code",
   "execution_count": 2,
   "metadata": {},
   "outputs": [],
   "source": [
    "# Loading data dari directory Local\n",
    "df = pd.read_csv('D:\\Hacktiv 8\\Full time Data Science\\Phase 0\\Milestone\\Milestone1\\iowa_liquor_sales.csv')\n"
   ]
  },
  {
   "cell_type": "code",
   "execution_count": 3,
   "metadata": {},
   "outputs": [
    {
     "data": {
      "text/html": [
       "<div>\n",
       "<style scoped>\n",
       "    .dataframe tbody tr th:only-of-type {\n",
       "        vertical-align: middle;\n",
       "    }\n",
       "\n",
       "    .dataframe tbody tr th {\n",
       "        vertical-align: top;\n",
       "    }\n",
       "\n",
       "    .dataframe thead th {\n",
       "        text-align: right;\n",
       "    }\n",
       "</style>\n",
       "<table border=\"1\" class=\"dataframe\">\n",
       "  <thead>\n",
       "    <tr style=\"text-align: right;\">\n",
       "      <th></th>\n",
       "      <th>invoice_and_item_number</th>\n",
       "      <th>date</th>\n",
       "      <th>year</th>\n",
       "      <th>quarter</th>\n",
       "      <th>month</th>\n",
       "      <th>item_description</th>\n",
       "      <th>state_bottle_cost</th>\n",
       "      <th>state_bottle_retail</th>\n",
       "      <th>bottles_sold</th>\n",
       "      <th>sale_dollars</th>\n",
       "      <th>category_name</th>\n",
       "      <th>store_name</th>\n",
       "      <th>city</th>\n",
       "      <th>vendor_name</th>\n",
       "    </tr>\n",
       "  </thead>\n",
       "  <tbody>\n",
       "    <tr>\n",
       "      <th>0</th>\n",
       "      <td>INV-37952300005</td>\n",
       "      <td>2021-06-30</td>\n",
       "      <td>2021</td>\n",
       "      <td>2</td>\n",
       "      <td>6</td>\n",
       "      <td>St George Botanivore Gin</td>\n",
       "      <td>17.50</td>\n",
       "      <td>26.25</td>\n",
       "      <td>18</td>\n",
       "      <td>472.50</td>\n",
       "      <td>Flavored Gin</td>\n",
       "      <td>John's Grocery</td>\n",
       "      <td>Iowa City</td>\n",
       "      <td>ST GEORGE SPIRITS INC</td>\n",
       "    </tr>\n",
       "    <tr>\n",
       "      <th>1</th>\n",
       "      <td>INV-40682000006</td>\n",
       "      <td>2021-10-05</td>\n",
       "      <td>2021</td>\n",
       "      <td>4</td>\n",
       "      <td>10</td>\n",
       "      <td>Cedar Ridge Sir Maple</td>\n",
       "      <td>23.00</td>\n",
       "      <td>34.50</td>\n",
       "      <td>84</td>\n",
       "      <td>2898.00</td>\n",
       "      <td>Temporary &amp;  Specialty Packages</td>\n",
       "      <td>Cedar Ridge Vineyards</td>\n",
       "      <td>Swisher</td>\n",
       "      <td>CEDAR RIDGE VINEYARDS LL</td>\n",
       "    </tr>\n",
       "    <tr>\n",
       "      <th>2</th>\n",
       "      <td>INV-32794300300</td>\n",
       "      <td>2020-12-16</td>\n",
       "      <td>2020</td>\n",
       "      <td>4</td>\n",
       "      <td>12</td>\n",
       "      <td>Glenlivet 12YR</td>\n",
       "      <td>25.98</td>\n",
       "      <td>38.97</td>\n",
       "      <td>120</td>\n",
       "      <td>4676.40</td>\n",
       "      <td>Single Malt Scotch</td>\n",
       "      <td>Hy-Vee Food Store #5 / Cedar Rapids</td>\n",
       "      <td>Cedar Rapids</td>\n",
       "      <td>PERNOD RICARD USA</td>\n",
       "    </tr>\n",
       "    <tr>\n",
       "      <th>3</th>\n",
       "      <td>INV-27186300002</td>\n",
       "      <td>2020-05-12</td>\n",
       "      <td>2020</td>\n",
       "      <td>2</td>\n",
       "      <td>5</td>\n",
       "      <td>Everclear 151</td>\n",
       "      <td>4.20</td>\n",
       "      <td>6.30</td>\n",
       "      <td>3</td>\n",
       "      <td>18.90</td>\n",
       "      <td>Neutral Grain Spirits</td>\n",
       "      <td>Guddi Mart / Waterloo</td>\n",
       "      <td>Waterloo</td>\n",
       "      <td>LUXCO INC</td>\n",
       "    </tr>\n",
       "    <tr>\n",
       "      <th>4</th>\n",
       "      <td>INV-34948500086</td>\n",
       "      <td>2021-03-11</td>\n",
       "      <td>2021</td>\n",
       "      <td>1</td>\n",
       "      <td>3</td>\n",
       "      <td>Glenlivet 12YR</td>\n",
       "      <td>29.48</td>\n",
       "      <td>44.22</td>\n",
       "      <td>2</td>\n",
       "      <td>88.44</td>\n",
       "      <td>Single Malt Scotch</td>\n",
       "      <td>Quick Shop / Clear Lake</td>\n",
       "      <td>ClearLake</td>\n",
       "      <td>PERNOD RICARD USA</td>\n",
       "    </tr>\n",
       "  </tbody>\n",
       "</table>\n",
       "</div>"
      ],
      "text/plain": [
       "  invoice_and_item_number        date  year  quarter  month  \\\n",
       "0         INV-37952300005  2021-06-30  2021        2      6   \n",
       "1         INV-40682000006  2021-10-05  2021        4     10   \n",
       "2         INV-32794300300  2020-12-16  2020        4     12   \n",
       "3         INV-27186300002  2020-05-12  2020        2      5   \n",
       "4         INV-34948500086  2021-03-11  2021        1      3   \n",
       "\n",
       "           item_description  state_bottle_cost  state_bottle_retail  \\\n",
       "0  St George Botanivore Gin              17.50                26.25   \n",
       "1     Cedar Ridge Sir Maple              23.00                34.50   \n",
       "2            Glenlivet 12YR              25.98                38.97   \n",
       "3             Everclear 151               4.20                 6.30   \n",
       "4            Glenlivet 12YR              29.48                44.22   \n",
       "\n",
       "   bottles_sold  sale_dollars                    category_name  \\\n",
       "0            18        472.50                     Flavored Gin   \n",
       "1            84       2898.00  Temporary &  Specialty Packages   \n",
       "2           120       4676.40               Single Malt Scotch   \n",
       "3             3         18.90            Neutral Grain Spirits   \n",
       "4             2         88.44               Single Malt Scotch   \n",
       "\n",
       "                            store_name          city               vendor_name  \n",
       "0                       John's Grocery     Iowa City     ST GEORGE SPIRITS INC  \n",
       "1                Cedar Ridge Vineyards       Swisher  CEDAR RIDGE VINEYARDS LL  \n",
       "2  Hy-Vee Food Store #5 / Cedar Rapids  Cedar Rapids         PERNOD RICARD USA  \n",
       "3                Guddi Mart / Waterloo      Waterloo                 LUXCO INC  \n",
       "4              Quick Shop / Clear Lake     ClearLake         PERNOD RICARD USA  "
      ]
     },
     "execution_count": 3,
     "metadata": {},
     "output_type": "execute_result"
    }
   ],
   "source": [
    "# Menampilkan 5 data paling awal\n",
    "df.head()"
   ]
  },
  {
   "cell_type": "code",
   "execution_count": 4,
   "metadata": {},
   "outputs": [
    {
     "data": {
      "text/html": [
       "<div>\n",
       "<style scoped>\n",
       "    .dataframe tbody tr th:only-of-type {\n",
       "        vertical-align: middle;\n",
       "    }\n",
       "\n",
       "    .dataframe tbody tr th {\n",
       "        vertical-align: top;\n",
       "    }\n",
       "\n",
       "    .dataframe thead th {\n",
       "        text-align: right;\n",
       "    }\n",
       "</style>\n",
       "<table border=\"1\" class=\"dataframe\">\n",
       "  <thead>\n",
       "    <tr style=\"text-align: right;\">\n",
       "      <th></th>\n",
       "      <th>invoice_and_item_number</th>\n",
       "      <th>date</th>\n",
       "      <th>year</th>\n",
       "      <th>quarter</th>\n",
       "      <th>month</th>\n",
       "      <th>item_description</th>\n",
       "      <th>state_bottle_cost</th>\n",
       "      <th>state_bottle_retail</th>\n",
       "      <th>bottles_sold</th>\n",
       "      <th>sale_dollars</th>\n",
       "      <th>category_name</th>\n",
       "      <th>store_name</th>\n",
       "      <th>city</th>\n",
       "      <th>vendor_name</th>\n",
       "    </tr>\n",
       "  </thead>\n",
       "  <tbody>\n",
       "    <tr>\n",
       "      <th>5236390</th>\n",
       "      <td>INV-42237500004</td>\n",
       "      <td>2021-11-22</td>\n",
       "      <td>2021</td>\n",
       "      <td>4</td>\n",
       "      <td>11</td>\n",
       "      <td>Black Velvet Toasted Caramel</td>\n",
       "      <td>5.23</td>\n",
       "      <td>7.85</td>\n",
       "      <td>2</td>\n",
       "      <td>15.7</td>\n",
       "      <td>Canadian Whiskies</td>\n",
       "      <td>A to Z Liquor / Cherokee</td>\n",
       "      <td>Cherokee</td>\n",
       "      <td>Heaven Hill Brands</td>\n",
       "    </tr>\n",
       "    <tr>\n",
       "      <th>5236391</th>\n",
       "      <td>INV-42126800016</td>\n",
       "      <td>2021-11-18</td>\n",
       "      <td>2021</td>\n",
       "      <td>4</td>\n",
       "      <td>11</td>\n",
       "      <td>Black Velvet Apple</td>\n",
       "      <td>5.23</td>\n",
       "      <td>7.85</td>\n",
       "      <td>2</td>\n",
       "      <td>15.7</td>\n",
       "      <td>Canadian Whiskies</td>\n",
       "      <td>Kum &amp; Go #542 / Urbandale</td>\n",
       "      <td>Urbandale</td>\n",
       "      <td>Heaven Hill Brands</td>\n",
       "    </tr>\n",
       "    <tr>\n",
       "      <th>5236392</th>\n",
       "      <td>INV-37727600140</td>\n",
       "      <td>2021-06-22</td>\n",
       "      <td>2021</td>\n",
       "      <td>2</td>\n",
       "      <td>6</td>\n",
       "      <td>Black Velvet Apple</td>\n",
       "      <td>5.23</td>\n",
       "      <td>7.85</td>\n",
       "      <td>2</td>\n",
       "      <td>15.7</td>\n",
       "      <td>Canadian Whiskies</td>\n",
       "      <td>Hy-Vee Wine and Spirits / Waterloo</td>\n",
       "      <td>Waterloo</td>\n",
       "      <td>Heaven Hill Brands</td>\n",
       "    </tr>\n",
       "    <tr>\n",
       "      <th>5236393</th>\n",
       "      <td>INV-34101100008</td>\n",
       "      <td>2021-02-08</td>\n",
       "      <td>2021</td>\n",
       "      <td>1</td>\n",
       "      <td>2</td>\n",
       "      <td>Black Velvet</td>\n",
       "      <td>5.23</td>\n",
       "      <td>7.85</td>\n",
       "      <td>2</td>\n",
       "      <td>15.7</td>\n",
       "      <td>Canadian Whiskies</td>\n",
       "      <td>Kum &amp; Go #532/ West DSM</td>\n",
       "      <td>West Des Moines</td>\n",
       "      <td>Heaven Hill Brands</td>\n",
       "    </tr>\n",
       "    <tr>\n",
       "      <th>5236394</th>\n",
       "      <td>INV-38812400007</td>\n",
       "      <td>2021-07-30</td>\n",
       "      <td>2021</td>\n",
       "      <td>3</td>\n",
       "      <td>7</td>\n",
       "      <td>Remy Martin VSOP</td>\n",
       "      <td>5.23</td>\n",
       "      <td>7.85</td>\n",
       "      <td>72</td>\n",
       "      <td>565.2</td>\n",
       "      <td>Imported Brandies</td>\n",
       "      <td>Sahota Food Mart</td>\n",
       "      <td>Des Moines</td>\n",
       "      <td>REMY COINTREAU USA INC</td>\n",
       "    </tr>\n",
       "  </tbody>\n",
       "</table>\n",
       "</div>"
      ],
      "text/plain": [
       "        invoice_and_item_number        date  year  quarter  month  \\\n",
       "5236390         INV-42237500004  2021-11-22  2021        4     11   \n",
       "5236391         INV-42126800016  2021-11-18  2021        4     11   \n",
       "5236392         INV-37727600140  2021-06-22  2021        2      6   \n",
       "5236393         INV-34101100008  2021-02-08  2021        1      2   \n",
       "5236394         INV-38812400007  2021-07-30  2021        3      7   \n",
       "\n",
       "                     item_description  state_bottle_cost  state_bottle_retail  \\\n",
       "5236390  Black Velvet Toasted Caramel               5.23                 7.85   \n",
       "5236391            Black Velvet Apple               5.23                 7.85   \n",
       "5236392            Black Velvet Apple               5.23                 7.85   \n",
       "5236393                  Black Velvet               5.23                 7.85   \n",
       "5236394              Remy Martin VSOP               5.23                 7.85   \n",
       "\n",
       "         bottles_sold  sale_dollars      category_name  \\\n",
       "5236390             2          15.7  Canadian Whiskies   \n",
       "5236391             2          15.7  Canadian Whiskies   \n",
       "5236392             2          15.7  Canadian Whiskies   \n",
       "5236393             2          15.7  Canadian Whiskies   \n",
       "5236394            72         565.2  Imported Brandies   \n",
       "\n",
       "                                 store_name             city  \\\n",
       "5236390            A to Z Liquor / Cherokee         Cherokee   \n",
       "5236391           Kum & Go #542 / Urbandale        Urbandale   \n",
       "5236392  Hy-Vee Wine and Spirits / Waterloo         Waterloo   \n",
       "5236393             Kum & Go #532/ West DSM  West Des Moines   \n",
       "5236394                    Sahota Food Mart       Des Moines   \n",
       "\n",
       "                    vendor_name  \n",
       "5236390      Heaven Hill Brands  \n",
       "5236391      Heaven Hill Brands  \n",
       "5236392      Heaven Hill Brands  \n",
       "5236393      Heaven Hill Brands  \n",
       "5236394  REMY COINTREAU USA INC  "
      ]
     },
     "execution_count": 4,
     "metadata": {},
     "output_type": "execute_result"
    }
   ],
   "source": [
    "# Menampilkan 5 data paling bawah\n",
    "df.tail()"
   ]
  },
  {
   "cell_type": "code",
   "execution_count": 5,
   "metadata": {},
   "outputs": [
    {
     "name": "stdout",
     "output_type": "stream",
     "text": [
      "<class 'pandas.core.frame.DataFrame'>\n",
      "RangeIndex: 5236395 entries, 0 to 5236394\n",
      "Data columns (total 14 columns):\n",
      " #   Column                   Dtype  \n",
      "---  ------                   -----  \n",
      " 0   invoice_and_item_number  object \n",
      " 1   date                     object \n",
      " 2   year                     int64  \n",
      " 3   quarter                  int64  \n",
      " 4   month                    int64  \n",
      " 5   item_description         object \n",
      " 6   state_bottle_cost        float64\n",
      " 7   state_bottle_retail      float64\n",
      " 8   bottles_sold             int64  \n",
      " 9   sale_dollars             float64\n",
      " 10  category_name            object \n",
      " 11  store_name               object \n",
      " 12  city                     object \n",
      " 13  vendor_name              object \n",
      "dtypes: float64(3), int64(4), object(7)\n",
      "memory usage: 559.3+ MB\n"
     ]
    }
   ],
   "source": [
    "# Memeriksa info kolom, dan tipe data pada kolom\n",
    "df.info()"
   ]
  },
  {
   "cell_type": "code",
   "execution_count": 6,
   "metadata": {},
   "outputs": [],
   "source": [
    "# Mengganti tipe data kolom date dari object ke datetime\n",
    "df['date'] = pd.to_datetime(df['date'])"
   ]
  },
  {
   "cell_type": "code",
   "execution_count": 7,
   "metadata": {},
   "outputs": [
    {
     "name": "stdout",
     "output_type": "stream",
     "text": [
      "<class 'pandas.core.frame.DataFrame'>\n",
      "RangeIndex: 5236395 entries, 0 to 5236394\n",
      "Data columns (total 14 columns):\n",
      " #   Column                   Dtype         \n",
      "---  ------                   -----         \n",
      " 0   invoice_and_item_number  object        \n",
      " 1   date                     datetime64[ns]\n",
      " 2   year                     int64         \n",
      " 3   quarter                  int64         \n",
      " 4   month                    int64         \n",
      " 5   item_description         object        \n",
      " 6   state_bottle_cost        float64       \n",
      " 7   state_bottle_retail      float64       \n",
      " 8   bottles_sold             int64         \n",
      " 9   sale_dollars             float64       \n",
      " 10  category_name            object        \n",
      " 11  store_name               object        \n",
      " 12  city                     object        \n",
      " 13  vendor_name              object        \n",
      "dtypes: datetime64[ns](1), float64(3), int64(4), object(6)\n",
      "memory usage: 559.3+ MB\n"
     ]
    }
   ],
   "source": [
    "# Memeriksa ulang apakah berhasil di eksekusi perubahan tipe datanya\n",
    "df.info()"
   ]
  },
  {
   "cell_type": "markdown",
   "metadata": {},
   "source": [
    "# Data Cleaning"
   ]
  },
  {
   "cell_type": "code",
   "execution_count": 8,
   "metadata": {},
   "outputs": [],
   "source": [
    "# Merubah nama kolom \n",
    "df = df.rename(columns={'invoice_and_item_number': 'invoice',\n",
    "                    'item_description': 'item', \n",
    "                    'state_bottle_cost':'cost', \n",
    "                    'state_bottle_retail': 'price', \n",
    "                    'bottles_sold':'quantity',\n",
    "                    'category_name':'category',\n",
    "                    'store_name':'store',\n",
    "                    })"
   ]
  },
  {
   "cell_type": "code",
   "execution_count": 9,
   "metadata": {},
   "outputs": [
    {
     "data": {
      "text/html": [
       "<div>\n",
       "<style scoped>\n",
       "    .dataframe tbody tr th:only-of-type {\n",
       "        vertical-align: middle;\n",
       "    }\n",
       "\n",
       "    .dataframe tbody tr th {\n",
       "        vertical-align: top;\n",
       "    }\n",
       "\n",
       "    .dataframe thead th {\n",
       "        text-align: right;\n",
       "    }\n",
       "</style>\n",
       "<table border=\"1\" class=\"dataframe\">\n",
       "  <thead>\n",
       "    <tr style=\"text-align: right;\">\n",
       "      <th></th>\n",
       "      <th>invoice</th>\n",
       "      <th>date</th>\n",
       "      <th>year</th>\n",
       "      <th>quarter</th>\n",
       "      <th>month</th>\n",
       "      <th>item</th>\n",
       "      <th>cost</th>\n",
       "      <th>price</th>\n",
       "      <th>quantity</th>\n",
       "      <th>sale_dollars</th>\n",
       "      <th>category</th>\n",
       "      <th>store</th>\n",
       "      <th>city</th>\n",
       "      <th>vendor_name</th>\n",
       "      <th>profit</th>\n",
       "      <th>percent profit (%)</th>\n",
       "    </tr>\n",
       "  </thead>\n",
       "  <tbody>\n",
       "    <tr>\n",
       "      <th>0</th>\n",
       "      <td>INV-37952300005</td>\n",
       "      <td>2021-06-30</td>\n",
       "      <td>2021</td>\n",
       "      <td>2</td>\n",
       "      <td>6</td>\n",
       "      <td>St George Botanivore Gin</td>\n",
       "      <td>17.50</td>\n",
       "      <td>26.25</td>\n",
       "      <td>18</td>\n",
       "      <td>472.50</td>\n",
       "      <td>Flavored Gin</td>\n",
       "      <td>John's Grocery</td>\n",
       "      <td>Iowa City</td>\n",
       "      <td>ST GEORGE SPIRITS INC</td>\n",
       "      <td>157.50</td>\n",
       "      <td>33.33</td>\n",
       "    </tr>\n",
       "    <tr>\n",
       "      <th>1</th>\n",
       "      <td>INV-40682000006</td>\n",
       "      <td>2021-10-05</td>\n",
       "      <td>2021</td>\n",
       "      <td>4</td>\n",
       "      <td>10</td>\n",
       "      <td>Cedar Ridge Sir Maple</td>\n",
       "      <td>23.00</td>\n",
       "      <td>34.50</td>\n",
       "      <td>84</td>\n",
       "      <td>2898.00</td>\n",
       "      <td>Temporary &amp;  Specialty Packages</td>\n",
       "      <td>Cedar Ridge Vineyards</td>\n",
       "      <td>Swisher</td>\n",
       "      <td>CEDAR RIDGE VINEYARDS LL</td>\n",
       "      <td>966.00</td>\n",
       "      <td>33.33</td>\n",
       "    </tr>\n",
       "    <tr>\n",
       "      <th>2</th>\n",
       "      <td>INV-32794300300</td>\n",
       "      <td>2020-12-16</td>\n",
       "      <td>2020</td>\n",
       "      <td>4</td>\n",
       "      <td>12</td>\n",
       "      <td>Glenlivet 12YR</td>\n",
       "      <td>25.98</td>\n",
       "      <td>38.97</td>\n",
       "      <td>120</td>\n",
       "      <td>4676.40</td>\n",
       "      <td>Single Malt Scotch</td>\n",
       "      <td>Hy-Vee Food Store #5 / Cedar Rapids</td>\n",
       "      <td>Cedar Rapids</td>\n",
       "      <td>PERNOD RICARD USA</td>\n",
       "      <td>1558.80</td>\n",
       "      <td>33.33</td>\n",
       "    </tr>\n",
       "    <tr>\n",
       "      <th>3</th>\n",
       "      <td>INV-27186300002</td>\n",
       "      <td>2020-05-12</td>\n",
       "      <td>2020</td>\n",
       "      <td>2</td>\n",
       "      <td>5</td>\n",
       "      <td>Everclear 151</td>\n",
       "      <td>4.20</td>\n",
       "      <td>6.30</td>\n",
       "      <td>3</td>\n",
       "      <td>18.90</td>\n",
       "      <td>Neutral Grain Spirits</td>\n",
       "      <td>Guddi Mart / Waterloo</td>\n",
       "      <td>Waterloo</td>\n",
       "      <td>LUXCO INC</td>\n",
       "      <td>6.30</td>\n",
       "      <td>33.33</td>\n",
       "    </tr>\n",
       "    <tr>\n",
       "      <th>4</th>\n",
       "      <td>INV-34948500086</td>\n",
       "      <td>2021-03-11</td>\n",
       "      <td>2021</td>\n",
       "      <td>1</td>\n",
       "      <td>3</td>\n",
       "      <td>Glenlivet 12YR</td>\n",
       "      <td>29.48</td>\n",
       "      <td>44.22</td>\n",
       "      <td>2</td>\n",
       "      <td>88.44</td>\n",
       "      <td>Single Malt Scotch</td>\n",
       "      <td>Quick Shop / Clear Lake</td>\n",
       "      <td>ClearLake</td>\n",
       "      <td>PERNOD RICARD USA</td>\n",
       "      <td>29.48</td>\n",
       "      <td>33.33</td>\n",
       "    </tr>\n",
       "    <tr>\n",
       "      <th>...</th>\n",
       "      <td>...</td>\n",
       "      <td>...</td>\n",
       "      <td>...</td>\n",
       "      <td>...</td>\n",
       "      <td>...</td>\n",
       "      <td>...</td>\n",
       "      <td>...</td>\n",
       "      <td>...</td>\n",
       "      <td>...</td>\n",
       "      <td>...</td>\n",
       "      <td>...</td>\n",
       "      <td>...</td>\n",
       "      <td>...</td>\n",
       "      <td>...</td>\n",
       "      <td>...</td>\n",
       "      <td>...</td>\n",
       "    </tr>\n",
       "    <tr>\n",
       "      <th>5236390</th>\n",
       "      <td>INV-42237500004</td>\n",
       "      <td>2021-11-22</td>\n",
       "      <td>2021</td>\n",
       "      <td>4</td>\n",
       "      <td>11</td>\n",
       "      <td>Black Velvet Toasted Caramel</td>\n",
       "      <td>5.23</td>\n",
       "      <td>7.85</td>\n",
       "      <td>2</td>\n",
       "      <td>15.70</td>\n",
       "      <td>Canadian Whiskies</td>\n",
       "      <td>A to Z Liquor / Cherokee</td>\n",
       "      <td>Cherokee</td>\n",
       "      <td>Heaven Hill Brands</td>\n",
       "      <td>5.24</td>\n",
       "      <td>33.38</td>\n",
       "    </tr>\n",
       "    <tr>\n",
       "      <th>5236391</th>\n",
       "      <td>INV-42126800016</td>\n",
       "      <td>2021-11-18</td>\n",
       "      <td>2021</td>\n",
       "      <td>4</td>\n",
       "      <td>11</td>\n",
       "      <td>Black Velvet Apple</td>\n",
       "      <td>5.23</td>\n",
       "      <td>7.85</td>\n",
       "      <td>2</td>\n",
       "      <td>15.70</td>\n",
       "      <td>Canadian Whiskies</td>\n",
       "      <td>Kum &amp; Go #542 / Urbandale</td>\n",
       "      <td>Urbandale</td>\n",
       "      <td>Heaven Hill Brands</td>\n",
       "      <td>5.24</td>\n",
       "      <td>33.38</td>\n",
       "    </tr>\n",
       "    <tr>\n",
       "      <th>5236392</th>\n",
       "      <td>INV-37727600140</td>\n",
       "      <td>2021-06-22</td>\n",
       "      <td>2021</td>\n",
       "      <td>2</td>\n",
       "      <td>6</td>\n",
       "      <td>Black Velvet Apple</td>\n",
       "      <td>5.23</td>\n",
       "      <td>7.85</td>\n",
       "      <td>2</td>\n",
       "      <td>15.70</td>\n",
       "      <td>Canadian Whiskies</td>\n",
       "      <td>Hy-Vee Wine and Spirits / Waterloo</td>\n",
       "      <td>Waterloo</td>\n",
       "      <td>Heaven Hill Brands</td>\n",
       "      <td>5.24</td>\n",
       "      <td>33.38</td>\n",
       "    </tr>\n",
       "    <tr>\n",
       "      <th>5236393</th>\n",
       "      <td>INV-34101100008</td>\n",
       "      <td>2021-02-08</td>\n",
       "      <td>2021</td>\n",
       "      <td>1</td>\n",
       "      <td>2</td>\n",
       "      <td>Black Velvet</td>\n",
       "      <td>5.23</td>\n",
       "      <td>7.85</td>\n",
       "      <td>2</td>\n",
       "      <td>15.70</td>\n",
       "      <td>Canadian Whiskies</td>\n",
       "      <td>Kum &amp; Go #532/ West DSM</td>\n",
       "      <td>West Des Moines</td>\n",
       "      <td>Heaven Hill Brands</td>\n",
       "      <td>5.24</td>\n",
       "      <td>33.38</td>\n",
       "    </tr>\n",
       "    <tr>\n",
       "      <th>5236394</th>\n",
       "      <td>INV-38812400007</td>\n",
       "      <td>2021-07-30</td>\n",
       "      <td>2021</td>\n",
       "      <td>3</td>\n",
       "      <td>7</td>\n",
       "      <td>Remy Martin VSOP</td>\n",
       "      <td>5.23</td>\n",
       "      <td>7.85</td>\n",
       "      <td>72</td>\n",
       "      <td>565.20</td>\n",
       "      <td>Imported Brandies</td>\n",
       "      <td>Sahota Food Mart</td>\n",
       "      <td>Des Moines</td>\n",
       "      <td>REMY COINTREAU USA INC</td>\n",
       "      <td>188.64</td>\n",
       "      <td>33.38</td>\n",
       "    </tr>\n",
       "  </tbody>\n",
       "</table>\n",
       "<p>5236395 rows × 16 columns</p>\n",
       "</div>"
      ],
      "text/plain": [
       "                 invoice       date  year  quarter  month  \\\n",
       "0        INV-37952300005 2021-06-30  2021        2      6   \n",
       "1        INV-40682000006 2021-10-05  2021        4     10   \n",
       "2        INV-32794300300 2020-12-16  2020        4     12   \n",
       "3        INV-27186300002 2020-05-12  2020        2      5   \n",
       "4        INV-34948500086 2021-03-11  2021        1      3   \n",
       "...                  ...        ...   ...      ...    ...   \n",
       "5236390  INV-42237500004 2021-11-22  2021        4     11   \n",
       "5236391  INV-42126800016 2021-11-18  2021        4     11   \n",
       "5236392  INV-37727600140 2021-06-22  2021        2      6   \n",
       "5236393  INV-34101100008 2021-02-08  2021        1      2   \n",
       "5236394  INV-38812400007 2021-07-30  2021        3      7   \n",
       "\n",
       "                                 item   cost  price  quantity  sale_dollars  \\\n",
       "0            St George Botanivore Gin  17.50  26.25        18        472.50   \n",
       "1               Cedar Ridge Sir Maple  23.00  34.50        84       2898.00   \n",
       "2                      Glenlivet 12YR  25.98  38.97       120       4676.40   \n",
       "3                       Everclear 151   4.20   6.30         3         18.90   \n",
       "4                      Glenlivet 12YR  29.48  44.22         2         88.44   \n",
       "...                               ...    ...    ...       ...           ...   \n",
       "5236390  Black Velvet Toasted Caramel   5.23   7.85         2         15.70   \n",
       "5236391            Black Velvet Apple   5.23   7.85         2         15.70   \n",
       "5236392            Black Velvet Apple   5.23   7.85         2         15.70   \n",
       "5236393                  Black Velvet   5.23   7.85         2         15.70   \n",
       "5236394              Remy Martin VSOP   5.23   7.85        72        565.20   \n",
       "\n",
       "                                category                                store  \\\n",
       "0                           Flavored Gin                       John's Grocery   \n",
       "1        Temporary &  Specialty Packages                Cedar Ridge Vineyards   \n",
       "2                     Single Malt Scotch  Hy-Vee Food Store #5 / Cedar Rapids   \n",
       "3                  Neutral Grain Spirits                Guddi Mart / Waterloo   \n",
       "4                     Single Malt Scotch              Quick Shop / Clear Lake   \n",
       "...                                  ...                                  ...   \n",
       "5236390                Canadian Whiskies             A to Z Liquor / Cherokee   \n",
       "5236391                Canadian Whiskies            Kum & Go #542 / Urbandale   \n",
       "5236392                Canadian Whiskies   Hy-Vee Wine and Spirits / Waterloo   \n",
       "5236393                Canadian Whiskies              Kum & Go #532/ West DSM   \n",
       "5236394                Imported Brandies                     Sahota Food Mart   \n",
       "\n",
       "                    city               vendor_name   profit  \\\n",
       "0              Iowa City     ST GEORGE SPIRITS INC   157.50   \n",
       "1                Swisher  CEDAR RIDGE VINEYARDS LL   966.00   \n",
       "2           Cedar Rapids         PERNOD RICARD USA  1558.80   \n",
       "3               Waterloo                 LUXCO INC     6.30   \n",
       "4              ClearLake         PERNOD RICARD USA    29.48   \n",
       "...                  ...                       ...      ...   \n",
       "5236390         Cherokee        Heaven Hill Brands     5.24   \n",
       "5236391        Urbandale        Heaven Hill Brands     5.24   \n",
       "5236392         Waterloo        Heaven Hill Brands     5.24   \n",
       "5236393  West Des Moines        Heaven Hill Brands     5.24   \n",
       "5236394       Des Moines    REMY COINTREAU USA INC   188.64   \n",
       "\n",
       "         percent profit (%)  \n",
       "0                     33.33  \n",
       "1                     33.33  \n",
       "2                     33.33  \n",
       "3                     33.33  \n",
       "4                     33.33  \n",
       "...                     ...  \n",
       "5236390               33.38  \n",
       "5236391               33.38  \n",
       "5236392               33.38  \n",
       "5236393               33.38  \n",
       "5236394               33.38  \n",
       "\n",
       "[5236395 rows x 16 columns]"
      ]
     },
     "execution_count": 9,
     "metadata": {},
     "output_type": "execute_result"
    }
   ],
   "source": [
    "# Menambahkan 2 kolom baru dari perhitungan kolom yang sudah ada\n",
    "\n",
    "df['profit'] = df['sale_dollars'] - (df['cost']*df['quantity'])\n",
    "pd.options.mode.chained_assignment = None\n",
    "df['percent profit (%)'] = (df['profit'] / df['sale_dollars'])*100\n",
    "pd.set_option('display.precision', 2)\n",
    "df"
   ]
  },
  {
   "cell_type": "code",
   "execution_count": 10,
   "metadata": {},
   "outputs": [
    {
     "data": {
      "text/plain": [
       "invoice                 0\n",
       "date                    0\n",
       "year                    0\n",
       "quarter                 0\n",
       "month                   0\n",
       "item                    0\n",
       "cost                    0\n",
       "price                   0\n",
       "quantity                0\n",
       "sale_dollars            0\n",
       "category                0\n",
       "store                   0\n",
       "city                  277\n",
       "vendor_name             4\n",
       "profit                  0\n",
       "percent profit (%)      0\n",
       "dtype: int64"
      ]
     },
     "execution_count": 10,
     "metadata": {},
     "output_type": "execute_result"
    }
   ],
   "source": [
    "# Memeriksa jumlah missing values\n",
    "df.isna().sum()"
   ]
  },
  {
   "cell_type": "markdown",
   "metadata": {},
   "source": [
    "Terdapat missing values pada kolom city dan vendor_name, saya putuskan untuk menghapus row yang berisi missing values, dikarenakan hanya sedikit data yang memiliki missing values"
   ]
  },
  {
   "cell_type": "code",
   "execution_count": 11,
   "metadata": {},
   "outputs": [
    {
     "data": {
      "text/plain": [
       "invoice               0\n",
       "date                  0\n",
       "year                  0\n",
       "quarter               0\n",
       "month                 0\n",
       "item                  0\n",
       "cost                  0\n",
       "price                 0\n",
       "quantity              0\n",
       "sale_dollars          0\n",
       "category              0\n",
       "store                 0\n",
       "city                  0\n",
       "vendor_name           0\n",
       "profit                0\n",
       "percent profit (%)    0\n",
       "dtype: int64"
      ]
     },
     "execution_count": 11,
     "metadata": {},
     "output_type": "execute_result"
    }
   ],
   "source": [
    "# Menghapus missing values\n",
    "df = df.dropna()\n",
    "df.isna().sum()"
   ]
  },
  {
   "cell_type": "code",
   "execution_count": 12,
   "metadata": {},
   "outputs": [
    {
     "data": {
      "text/plain": [
       "109.87369179827917"
      ]
     },
     "execution_count": 12,
     "metadata": {},
     "output_type": "execute_result"
    }
   ],
   "source": [
    "# Melihat Skewness kolom profit\n",
    "df['profit'].skew()"
   ]
  },
  {
   "cell_type": "markdown",
   "metadata": {},
   "source": [
    "Skewness kolom profit menghasilkan 109.87 hal itu melebihi angka > 0.5, sehingga ini tergolong dari right skew yang sangat extreme.\n"
   ]
  },
  {
   "cell_type": "code",
   "execution_count": 13,
   "metadata": {},
   "outputs": [
    {
     "data": {
      "text/plain": [
       "<AxesSubplot: title={'center': 'Profit distribution'}>"
      ]
     },
     "execution_count": 13,
     "metadata": {},
     "output_type": "execute_result"
    },
    {
     "data": {
      "image/png": "[encoded data removed]",
      "text/plain": [
       "<Figure size 700x500 with 1 Axes>"
      ]
     },
     "metadata": {},
     "output_type": "display_data"
    }
   ],
   "source": [
    "# Melihat distribusi data profit\n",
    "df['profit'].plot(kind='box', title= 'Profit distribution', figsize=(7,5))"
   ]
  },
  {
   "cell_type": "markdown",
   "metadata": {},
   "source": [
    "Dari distribusi diatas terdapat banyak sekali outlier pada kolom profit, Hal ini tergolong data tidak normal sehingga perlu dibersihkan menggunakan IQR.\n"
   ]
  },
  {
   "cell_type": "code",
   "execution_count": 14,
   "metadata": {},
   "outputs": [],
   "source": [
    "# Menghapus data outlier pada kolom profit dengan IQR \n",
    "Q1 = df.profit.quantile(0.25)\n",
    "Q3 = df.profit.quantile(0.75)\n",
    "IQR = Q3-Q1\n",
    "upper_limit = Q3 + 1.5*IQR\n",
    "lower_limit = Q1 - 1.5*IQR"
   ]
  },
  {
   "cell_type": "code",
   "execution_count": 15,
   "metadata": {},
   "outputs": [
    {
     "data": {
      "text/plain": [
       "1.0361139916077038"
      ]
     },
     "execution_count": 15,
     "metadata": {},
     "output_type": "execute_result"
    }
   ],
   "source": [
    "# Memeriksa skewness data yang sudah dihilangkan outliernya pada kolom profit\n",
    "df_profit_no_outlier = df[(df.profit> lower_limit) & (df.profit < upper_limit)]\n",
    "df_profit_no_outlier['profit'].skew()"
   ]
  },
  {
   "cell_type": "code",
   "execution_count": 16,
   "metadata": {},
   "outputs": [
    {
     "data": {
      "text/plain": [
       "<AxesSubplot: title={'center': 'Profit distribution'}>"
      ]
     },
     "execution_count": 16,
     "metadata": {},
     "output_type": "execute_result"
    },
    {
     "data": {
      "image/png": "[encoded data removed]",
      "text/plain": [
       "<Figure size 700x500 with 1 Axes>"
      ]
     },
     "metadata": {},
     "output_type": "display_data"
    }
   ],
   "source": [
    "# Memeriksa ulang distribusi data dengan grafik box \n",
    "df_profit_no_outlier['profit'].plot(kind='box', title= 'Profit distribution', figsize=(7,5))"
   ]
  },
  {
   "cell_type": "markdown",
   "metadata": {},
   "source": [
    "Distribusi data sudah sedikit lebih normal namun masi terdapat profit yang negatif dimana hal tersebut masi perlu untuk dibersihkan."
   ]
  },
  {
   "cell_type": "code",
   "execution_count": 17,
   "metadata": {},
   "outputs": [
    {
     "data": {
      "text/plain": [
       "<AxesSubplot: title={'center': 'Profit distribution'}>"
      ]
     },
     "execution_count": 17,
     "metadata": {},
     "output_type": "execute_result"
    },
    {
     "data": {
      "image/png": "[encoded data removed]",
      "text/plain": [
       "<Figure size 700x500 with 1 Axes>"
      ]
     },
     "metadata": {},
     "output_type": "display_data"
    }
   ],
   "source": [
    "# Membersihkan data negatif pada kolom profit\n",
    "df_profit_no_outlier2 =  df_profit_no_outlier[df_profit_no_outlier['profit'] > 0]\n",
    "# memeriksa ulang data negatif pada kolom profit\n",
    "df_profit_no_outlier2['profit'].plot(kind='box', title= 'Profit distribution', figsize=(7,5))"
   ]
  },
  {
   "cell_type": "markdown",
   "metadata": {},
   "source": [
    "Setelah data yang bernilai negatif pada kolom profit berhasil dibersihkan, kita perlu memeriksa data sale_dollars apakah sudah normal atau belum."
   ]
  },
  {
   "cell_type": "code",
   "execution_count": 18,
   "metadata": {},
   "outputs": [
    {
     "data": {
      "text/plain": [
       "<AxesSubplot: title={'center': 'sale_dollars distribution'}>"
      ]
     },
     "execution_count": 18,
     "metadata": {},
     "output_type": "execute_result"
    },
    {
     "data": {
      "image/png": "[encoded data removed]",
      "text/plain": [
       "<Figure size 640x480 with 1 Axes>"
      ]
     },
     "metadata": {},
     "output_type": "display_data"
    }
   ],
   "source": [
    "# Memeriksa kolom sale_dollars untuk selanjutnya dibersihkan menggunakan IQR\n",
    "df_profit_no_outlier2['sale_dollars'].plot(kind='box', title= 'sale_dollars distribution')"
   ]
  },
  {
   "cell_type": "markdown",
   "metadata": {},
   "source": [
    "Data pada kolom sale dollars masi terdapat outlier yang extreme, data tersebut harus dibersihkan agar distribusi data menjadi lebih baik"
   ]
  },
  {
   "cell_type": "code",
   "execution_count": 19,
   "metadata": {},
   "outputs": [
    {
     "data": {
      "text/plain": [
       "0.20957459353001268"
      ]
     },
     "execution_count": 19,
     "metadata": {},
     "output_type": "execute_result"
    }
   ],
   "source": [
    "# Menghapus data outlier pada kolom sale_dollars dengan IQR \n",
    "Q1_v2 = df_profit_no_outlier2.sale_dollars.quantile(0.25)\n",
    "Q3_v2 = df_profit_no_outlier2.sale_dollars.quantile(0.75)\n",
    "IQR_v2 = Q3_v2-Q1_v2\n",
    "upper_limit_v2 = Q3_v2 + 1.5*IQR_v2\n",
    "lower_limit_v2 = Q1_v2 - 1.5*IQR_v2\n",
    "\n",
    "# Memeriksa skewness data pada kolom sale_dollars\n",
    "df_fix = df_profit_no_outlier2[(df_profit_no_outlier2.sale_dollars> lower_limit) & (df_profit_no_outlier2.sale_dollars < upper_limit)]\n",
    "df_fix.sale_dollars.skew()"
   ]
  },
  {
   "cell_type": "markdown",
   "metadata": {},
   "source": [
    "Didapatkan nilai skewness < 0.5 yang menunjukkan data pada df_fix sudah menjadi normal sehingga data siap di olah"
   ]
  },
  {
   "cell_type": "code",
   "execution_count": 20,
   "metadata": {},
   "outputs": [
    {
     "data": {
      "text/plain": [
       "<AxesSubplot: title={'center': 'Sale_dollars distribution'}>"
      ]
     },
     "execution_count": 20,
     "metadata": {},
     "output_type": "execute_result"
    },
    {
     "data": {
      "image/png": "[encoded data removed]",
      "text/plain": [
       "<Figure size 640x480 with 1 Axes>"
      ]
     },
     "metadata": {},
     "output_type": "display_data"
    }
   ],
   "source": [
    "# Memeriksa distribusi data sale_dollars pada df_fix \n",
    "df_fix['sale_dollars'].plot(kind='box', title= 'Sale_dollars distribution')"
   ]
  },
  {
   "cell_type": "markdown",
   "metadata": {},
   "source": [
    "# Analisis dan Perhitungan\n",
    "1. Berapa total penjualan(sales) dalam usd setiap bulan pada tahun 2021 dan 2022?\n",
    "2. Berapa total profit penjualan setiap bulan pada tahun 2021 dan tahun 2022?\n",
    "3. Kota mana sajakah yang memiliki total pendapatan paling banyak dari penjualan minuman keras?\n",
    "4. Produk apa saja yang paling banyak mendapatkan profit?"
   ]
  },
  {
   "cell_type": "code",
   "execution_count": 36,
   "metadata": {},
   "outputs": [
    {
     "data": {
      "text/plain": [
       "<AxesSubplot: xlabel='year,month'>"
      ]
     },
     "execution_count": 36,
     "metadata": {},
     "output_type": "execute_result"
    },
    {
     "data": {
      "image/png": "[encoded data removed]",
      "text/plain": [
       "<Figure size 640x480 with 1 Axes>"
      ]
     },
     "metadata": {},
     "output_type": "display_data"
    }
   ],
   "source": [
    "df_fix.groupby(['year','month'])[['sale_dollars']].sum().sort_values(by=['year', 'month'],ascending=True).plot()\n"
   ]
  },
  {
   "cell_type": "code",
   "execution_count": 22,
   "metadata": {},
   "outputs": [
    {
     "data": {
      "text/html": [
       "<div>\n",
       "<style scoped>\n",
       "    .dataframe tbody tr th:only-of-type {\n",
       "        vertical-align: middle;\n",
       "    }\n",
       "\n",
       "    .dataframe tbody tr th {\n",
       "        vertical-align: top;\n",
       "    }\n",
       "\n",
       "    .dataframe thead th {\n",
       "        text-align: right;\n",
       "    }\n",
       "</style>\n",
       "<table border=\"1\" class=\"dataframe\">\n",
       "  <thead>\n",
       "    <tr style=\"text-align: right;\">\n",
       "      <th></th>\n",
       "      <th></th>\n",
       "      <th>sale_dollars</th>\n",
       "    </tr>\n",
       "    <tr>\n",
       "      <th>year</th>\n",
       "      <th>month</th>\n",
       "      <th></th>\n",
       "    </tr>\n",
       "  </thead>\n",
       "  <tbody>\n",
       "    <tr>\n",
       "      <th>2020</th>\n",
       "      <th>12</th>\n",
       "      <td>8.28e+06</td>\n",
       "    </tr>\n",
       "    <tr>\n",
       "      <th>2021</th>\n",
       "      <th>12</th>\n",
       "      <td>8.08e+06</td>\n",
       "    </tr>\n",
       "    <tr>\n",
       "      <th>2020</th>\n",
       "      <th>6</th>\n",
       "      <td>7.78e+06</td>\n",
       "    </tr>\n",
       "  </tbody>\n",
       "</table>\n",
       "</div>"
      ],
      "text/plain": [
       "            sale_dollars\n",
       "year month              \n",
       "2020 12         8.28e+06\n",
       "2021 12         8.08e+06\n",
       "2020 6          7.78e+06"
      ]
     },
     "execution_count": 22,
     "metadata": {},
     "output_type": "execute_result"
    }
   ],
   "source": [
    "df_fix.groupby(['year','month'])[['sale_dollars']].sum().sort_values(by=['sale_dollars'],ascending=False).head(3)"
   ]
  },
  {
   "cell_type": "markdown",
   "metadata": {},
   "source": [
    "1. Berapa total penjualan(sales) dalam usd setiap bulan pada tahun 2021 hingga 2022?\n",
    "\n",
    "\n",
    "Grafik diatas menyimpulkan bahwa penjualan setiap bulan pada tahun 2021 hingga 2022 mengalami trend yang fluktuatif sehingga tidak dapat disimpulkan setiap bulannya terdapat peningkatan atau penurunan.<br>\n",
    "Total penjualan terbanyak terjadi pada bulan Desember 2020, Desember 2021 dan Juni 2020 "
   ]
  },
  {
   "cell_type": "code",
   "execution_count": 23,
   "metadata": {},
   "outputs": [
    {
     "data": {
      "text/plain": [
       "<AxesSubplot: xlabel='year,month'>"
      ]
     },
     "execution_count": 23,
     "metadata": {},
     "output_type": "execute_result"
    },
    {
     "data": {
      "image/png": "[encoded data removed]",
      "text/plain": [
       "<Figure size 640x480 with 1 Axes>"
      ]
     },
     "metadata": {},
     "output_type": "display_data"
    }
   ],
   "source": [
    "df_fix.groupby(['year','month'])[['profit']].sum().sort_values(by=['year', 'month'],ascending=True).plot()"
   ]
  },
  {
   "cell_type": "code",
   "execution_count": 24,
   "metadata": {},
   "outputs": [
    {
     "data": {
      "text/html": [
       "<div>\n",
       "<style scoped>\n",
       "    .dataframe tbody tr th:only-of-type {\n",
       "        vertical-align: middle;\n",
       "    }\n",
       "\n",
       "    .dataframe tbody tr th {\n",
       "        vertical-align: top;\n",
       "    }\n",
       "\n",
       "    .dataframe thead th {\n",
       "        text-align: right;\n",
       "    }\n",
       "</style>\n",
       "<table border=\"1\" class=\"dataframe\">\n",
       "  <thead>\n",
       "    <tr style=\"text-align: right;\">\n",
       "      <th></th>\n",
       "      <th></th>\n",
       "      <th>profit</th>\n",
       "    </tr>\n",
       "    <tr>\n",
       "      <th>year</th>\n",
       "      <th>month</th>\n",
       "      <th></th>\n",
       "    </tr>\n",
       "  </thead>\n",
       "  <tbody>\n",
       "    <tr>\n",
       "      <th>2020</th>\n",
       "      <th>12</th>\n",
       "      <td>2.76e+06</td>\n",
       "    </tr>\n",
       "    <tr>\n",
       "      <th>2021</th>\n",
       "      <th>12</th>\n",
       "      <td>2.66e+06</td>\n",
       "    </tr>\n",
       "    <tr>\n",
       "      <th>2020</th>\n",
       "      <th>6</th>\n",
       "      <td>2.59e+06</td>\n",
       "    </tr>\n",
       "  </tbody>\n",
       "</table>\n",
       "</div>"
      ],
      "text/plain": [
       "              profit\n",
       "year month          \n",
       "2020 12     2.76e+06\n",
       "2021 12     2.66e+06\n",
       "2020 6      2.59e+06"
      ]
     },
     "execution_count": 24,
     "metadata": {},
     "output_type": "execute_result"
    }
   ],
   "source": [
    "df_fix.groupby(['year','month'])[['profit']].sum().sort_values(by=['profit'],ascending=False).head(3)"
   ]
  },
  {
   "cell_type": "markdown",
   "metadata": {},
   "source": [
    "2. Berapa total profit penjualan setiap bulan pada tahun 2021 dan tahun 2022?\n",
    "\n",
    "Grafik dan data pada total profit berbanding lurus dengan total penjualan sehingga sama-sama memiliki grafik yang fluktuatif dan juga profit tertinggi juga terjadi pada pada bulan Desember 2020, Desember 2021 dan Juni 2020 "
   ]
  },
  {
   "cell_type": "code",
   "execution_count": 25,
   "metadata": {},
   "outputs": [
    {
     "data": {
      "text/plain": [
       "<AxesSubplot: xlabel='city'>"
      ]
     },
     "execution_count": 25,
     "metadata": {},
     "output_type": "execute_result"
    },
    {
     "data": {
      "image/png": "[encoded data removed]",
      "text/plain": [
       "<Figure size 640x480 with 1 Axes>"
      ]
     },
     "metadata": {},
     "output_type": "display_data"
    }
   ],
   "source": [
    "df_fix.groupby(['city'])[['sale_dollars']].sum().sort_values(by=['sale_dollars'], ascending=False).head(15).plot(kind= 'bar')"
   ]
  },
  {
   "cell_type": "code",
   "execution_count": 26,
   "metadata": {},
   "outputs": [
    {
     "data": {
      "text/html": [
       "<div>\n",
       "<style scoped>\n",
       "    .dataframe tbody tr th:only-of-type {\n",
       "        vertical-align: middle;\n",
       "    }\n",
       "\n",
       "    .dataframe tbody tr th {\n",
       "        vertical-align: top;\n",
       "    }\n",
       "\n",
       "    .dataframe thead th {\n",
       "        text-align: right;\n",
       "    }\n",
       "</style>\n",
       "<table border=\"1\" class=\"dataframe\">\n",
       "  <thead>\n",
       "    <tr style=\"text-align: right;\">\n",
       "      <th></th>\n",
       "      <th>sale_dollars</th>\n",
       "    </tr>\n",
       "    <tr>\n",
       "      <th>city</th>\n",
       "      <th></th>\n",
       "    </tr>\n",
       "  </thead>\n",
       "  <tbody>\n",
       "    <tr>\n",
       "      <th>Des Moines</th>\n",
       "      <td>1.20e+07</td>\n",
       "    </tr>\n",
       "    <tr>\n",
       "      <th>Cedar Rapids</th>\n",
       "      <td>1.08e+07</td>\n",
       "    </tr>\n",
       "    <tr>\n",
       "      <th>Davenport</th>\n",
       "      <td>6.48e+06</td>\n",
       "    </tr>\n",
       "  </tbody>\n",
       "</table>\n",
       "</div>"
      ],
      "text/plain": [
       "              sale_dollars\n",
       "city                      \n",
       "Des Moines        1.20e+07\n",
       "Cedar Rapids      1.08e+07\n",
       "Davenport         6.48e+06"
      ]
     },
     "execution_count": 26,
     "metadata": {},
     "output_type": "execute_result"
    }
   ],
   "source": [
    "df_fix.groupby(['city'])[['sale_dollars']].sum().sort_values(by=['sale_dollars'], ascending=False).head(3)"
   ]
  },
  {
   "cell_type": "markdown",
   "metadata": {},
   "source": [
    "3. Kota mana sajakah yang memiliki total pendapatan paling banyak dari penjualan minuman keras?\n",
    "\n",
    "Melihat dari total penjualan minuman keras di IOWA, terdapat 3 kota yang paling banyak total penjualannya yaitu : \n",
    "- Des Moines\n",
    "- Cedar Rapids\n",
    "- Davenport"
   ]
  },
  {
   "cell_type": "code",
   "execution_count": 27,
   "metadata": {},
   "outputs": [
    {
     "data": {
      "text/plain": [
       "<AxesSubplot: xlabel='category'>"
      ]
     },
     "execution_count": 27,
     "metadata": {},
     "output_type": "execute_result"
    },
    {
     "data": {
      "image/png": "[encoded data removed]",
      "text/plain": [
       "<Figure size 640x480 with 1 Axes>"
      ]
     },
     "metadata": {},
     "output_type": "display_data"
    }
   ],
   "source": [
    "df_fix.groupby(['category'])[['profit']].sum().sort_values(by=['profit'], ascending=False).head(15).plot(kind= 'bar')"
   ]
  },
  {
   "cell_type": "code",
   "execution_count": 28,
   "metadata": {},
   "outputs": [
    {
     "data": {
      "text/html": [
       "<div>\n",
       "<style scoped>\n",
       "    .dataframe tbody tr th:only-of-type {\n",
       "        vertical-align: middle;\n",
       "    }\n",
       "\n",
       "    .dataframe tbody tr th {\n",
       "        vertical-align: top;\n",
       "    }\n",
       "\n",
       "    .dataframe thead th {\n",
       "        text-align: right;\n",
       "    }\n",
       "</style>\n",
       "<table border=\"1\" class=\"dataframe\">\n",
       "  <thead>\n",
       "    <tr style=\"text-align: right;\">\n",
       "      <th></th>\n",
       "      <th>profit</th>\n",
       "    </tr>\n",
       "    <tr>\n",
       "      <th>category</th>\n",
       "      <th></th>\n",
       "    </tr>\n",
       "  </thead>\n",
       "  <tbody>\n",
       "    <tr>\n",
       "      <th>American Vodkas</th>\n",
       "      <td>9.60e+06</td>\n",
       "    </tr>\n",
       "    <tr>\n",
       "      <th>Canadian Whiskies</th>\n",
       "      <td>6.65e+06</td>\n",
       "    </tr>\n",
       "    <tr>\n",
       "      <th>Straight Bourbon Whiskies</th>\n",
       "      <td>3.46e+06</td>\n",
       "    </tr>\n",
       "  </tbody>\n",
       "</table>\n",
       "</div>"
      ],
      "text/plain": [
       "                             profit\n",
       "category                           \n",
       "American Vodkas            9.60e+06\n",
       "Canadian Whiskies          6.65e+06\n",
       "Straight Bourbon Whiskies  3.46e+06"
      ]
     },
     "execution_count": 28,
     "metadata": {},
     "output_type": "execute_result"
    }
   ],
   "source": [
    "df_fix.groupby(['category'])[['profit']].sum().sort_values(by=['profit'], ascending=False).head(3)"
   ]
  },
  {
   "cell_type": "markdown",
   "metadata": {},
   "source": [
    "4. Produk apa saja yang paling banyak mendapatkan profit?\n",
    "\n",
    "Produk yang mendapatkan total profit paling banyak adalah :\n",
    "- American Vodkas\n",
    "- Canadian Whiskies\n",
    "- Straight Bourbon Whiskies"
   ]
  },
  {
   "cell_type": "markdown",
   "metadata": {},
   "source": [
    "### Statistik Deskriptif "
   ]
  },
  {
   "cell_type": "code",
   "execution_count": 29,
   "metadata": {},
   "outputs": [
    {
     "name": "stdout",
     "output_type": "stream",
     "text": [
      "2017797\n"
     ]
    }
   ],
   "source": [
    "# Memeriksa jumlah outlier pada kolom profit, dengan cara = data asli - data tanpa outlier\n",
    "df_outlier = df[(df['profit'] < lower_limit) | (df['profit'] > upper_limit)]\n",
    "print(len(df) - len(df_fix))"
   ]
  },
  {
   "cell_type": "markdown",
   "metadata": {},
   "source": [
    "Pada perhitungan ini didapatkan 2,017,797 outlier dari data Iowa_liquor_sale"
   ]
  },
  {
   "cell_type": "markdown",
   "metadata": {},
   "source": [
    "#### Perbandingan Central Tendency dari profit setiap produk pada data yang terdapat outlier dan tidak terdapat outlier"
   ]
  },
  {
   "cell_type": "code",
   "execution_count": 30,
   "metadata": {},
   "outputs": [
    {
     "name": "stdout",
     "output_type": "stream",
     "text": [
      "Mean\n",
      "Mean raw data : 52.38\n",
      "Mean Clean data : 17.47\n",
      "Median\n",
      "Median raw data : 28.08\n",
      "Median Clean data : 16.52\n",
      "Modus\n",
      "Median raw data : 30.0\n",
      "Median Clean data : 30.0\n"
     ]
    }
   ],
   "source": [
    "print('Mean')\n",
    "print(f'Mean raw data : {round(df.profit.mean(),2)}')\n",
    "print(f'Mean Clean data : {round(df_fix.profit.mean(),2)}')\n",
    "\n",
    "print('Median')\n",
    "print(f'Median raw data : {round(df.profit.median(),2)}')\n",
    "print(f'Median Clean data : {round(df_fix.profit.median(),2)}')\n",
    "\n",
    "print('Modus')\n",
    "print(f'Median raw data : {round(df.profit.mode()[0],2)}')\n",
    "print(f'Median Clean data : {round(df_fix.profit.mode()[0],2)}')\n"
   ]
  },
  {
   "cell_type": "markdown",
   "metadata": {},
   "source": [
    "### Hasil central tendency\n",
    "Dari hasil perhitungan central tendency didapatkan bahwa : \n",
    "1. rata-rata profit setiap produk mengalami penurunan setelah menghapus outlier\n",
    "2. Median profit pada setiap produk Mengalami penurunan setelah data outlier dihilangkan\n",
    "3. Namun nilai Modus pada data profit setiap produk tidak berubah walaupun data outlier sudah dihapus "
   ]
  },
  {
   "cell_type": "markdown",
   "metadata": {},
   "source": [
    "# Query from BigQUery\n",
    "```\n",
    "select\n",
    "round((total_profit /  120),2) as profit_monthly,\n",
    "from\n",
    "  (select \n",
    "  sum(profit) as total_profit,\n",
    "  from\n",
    "          (select \n",
    "          date,\n",
    "          sale_dollars - (state_bottle_cost*bottles_sold) as profit\n",
    "          from bigquery-public-data.iowa_liquor_sales.sales)\n",
    "          where date < '2021-12-31')\n",
    "```\n",
    "Profit_monthly = 8,864,969.43 USD"
   ]
  },
  {
   "cell_type": "markdown",
   "metadata": {},
   "source": [
    "### Statistik Inferential\n",
    "Dalam kurun waktu 10 tahun rata-rata profit perbulan iowa_liquor_sale adalah `8,864,969.43 USD`. <br>\n",
    "Namun selama 2 tahun pendapatan rata-rata setiap bulannya adalah `6,154,997.26 USD`<br>\n",
    "Apakah liquor sales di iowa mengalami penurunan?\n",
    "\n",
    "H0: μ > = `8,864,969.43 USD`<br>\n",
    "H1: μ < `8,864,969.43 USD`\n"
   ]
  },
  {
   "cell_type": "markdown",
   "metadata": {},
   "source": [
    "## One sample one tailed\n",
    "\n",
    "Critical value = 2 * 0.05 = 0.1"
   ]
  },
  {
   "cell_type": "code",
   "execution_count": 31,
   "metadata": {},
   "outputs": [
    {
     "data": {
      "text/html": [
       "<div>\n",
       "<style scoped>\n",
       "    .dataframe tbody tr th:only-of-type {\n",
       "        vertical-align: middle;\n",
       "    }\n",
       "\n",
       "    .dataframe tbody tr th {\n",
       "        vertical-align: top;\n",
       "    }\n",
       "\n",
       "    .dataframe thead th {\n",
       "        text-align: right;\n",
       "    }\n",
       "</style>\n",
       "<table border=\"1\" class=\"dataframe\">\n",
       "  <thead>\n",
       "    <tr style=\"text-align: right;\">\n",
       "      <th></th>\n",
       "      <th></th>\n",
       "      <th>profit</th>\n",
       "    </tr>\n",
       "    <tr>\n",
       "      <th>year</th>\n",
       "      <th>month</th>\n",
       "      <th></th>\n",
       "    </tr>\n",
       "  </thead>\n",
       "  <tbody>\n",
       "    <tr>\n",
       "      <th rowspan=\"12\" valign=\"top\">2020</th>\n",
       "      <th>1</th>\n",
       "      <td>2.09e+06</td>\n",
       "    </tr>\n",
       "    <tr>\n",
       "      <th>2</th>\n",
       "      <td>1.84e+06</td>\n",
       "    </tr>\n",
       "    <tr>\n",
       "      <th>3</th>\n",
       "      <td>2.30e+06</td>\n",
       "    </tr>\n",
       "    <tr>\n",
       "      <th>4</th>\n",
       "      <td>2.39e+06</td>\n",
       "    </tr>\n",
       "    <tr>\n",
       "      <th>5</th>\n",
       "      <td>2.57e+06</td>\n",
       "    </tr>\n",
       "    <tr>\n",
       "      <th>6</th>\n",
       "      <td>2.59e+06</td>\n",
       "    </tr>\n",
       "    <tr>\n",
       "      <th>7</th>\n",
       "      <td>2.44e+06</td>\n",
       "    </tr>\n",
       "    <tr>\n",
       "      <th>8</th>\n",
       "      <td>2.26e+06</td>\n",
       "    </tr>\n",
       "    <tr>\n",
       "      <th>9</th>\n",
       "      <td>2.42e+06</td>\n",
       "    </tr>\n",
       "    <tr>\n",
       "      <th>10</th>\n",
       "      <td>2.33e+06</td>\n",
       "    </tr>\n",
       "    <tr>\n",
       "      <th>11</th>\n",
       "      <td>2.29e+06</td>\n",
       "    </tr>\n",
       "    <tr>\n",
       "      <th>12</th>\n",
       "      <td>2.76e+06</td>\n",
       "    </tr>\n",
       "    <tr>\n",
       "      <th rowspan=\"12\" valign=\"top\">2021</th>\n",
       "      <th>1</th>\n",
       "      <td>2.15e+06</td>\n",
       "    </tr>\n",
       "    <tr>\n",
       "      <th>2</th>\n",
       "      <td>2.00e+06</td>\n",
       "    </tr>\n",
       "    <tr>\n",
       "      <th>3</th>\n",
       "      <td>2.43e+06</td>\n",
       "    </tr>\n",
       "    <tr>\n",
       "      <th>4</th>\n",
       "      <td>2.44e+06</td>\n",
       "    </tr>\n",
       "    <tr>\n",
       "      <th>5</th>\n",
       "      <td>2.24e+06</td>\n",
       "    </tr>\n",
       "    <tr>\n",
       "      <th>6</th>\n",
       "      <td>2.57e+06</td>\n",
       "    </tr>\n",
       "    <tr>\n",
       "      <th>7</th>\n",
       "      <td>2.29e+06</td>\n",
       "    </tr>\n",
       "    <tr>\n",
       "      <th>8</th>\n",
       "      <td>2.32e+06</td>\n",
       "    </tr>\n",
       "    <tr>\n",
       "      <th>9</th>\n",
       "      <td>2.25e+06</td>\n",
       "    </tr>\n",
       "    <tr>\n",
       "      <th>10</th>\n",
       "      <td>2.24e+06</td>\n",
       "    </tr>\n",
       "    <tr>\n",
       "      <th>11</th>\n",
       "      <td>2.38e+06</td>\n",
       "    </tr>\n",
       "    <tr>\n",
       "      <th>12</th>\n",
       "      <td>2.66e+06</td>\n",
       "    </tr>\n",
       "  </tbody>\n",
       "</table>\n",
       "</div>"
      ],
      "text/plain": [
       "              profit\n",
       "year month          \n",
       "2020 1      2.09e+06\n",
       "     2      1.84e+06\n",
       "     3      2.30e+06\n",
       "     4      2.39e+06\n",
       "     5      2.57e+06\n",
       "     6      2.59e+06\n",
       "     7      2.44e+06\n",
       "     8      2.26e+06\n",
       "     9      2.42e+06\n",
       "     10     2.33e+06\n",
       "     11     2.29e+06\n",
       "     12     2.76e+06\n",
       "2021 1      2.15e+06\n",
       "     2      2.00e+06\n",
       "     3      2.43e+06\n",
       "     4      2.44e+06\n",
       "     5      2.24e+06\n",
       "     6      2.57e+06\n",
       "     7      2.29e+06\n",
       "     8      2.32e+06\n",
       "     9      2.25e+06\n",
       "     10     2.24e+06\n",
       "     11     2.38e+06\n",
       "     12     2.66e+06"
      ]
     },
     "execution_count": 31,
     "metadata": {},
     "output_type": "execute_result"
    }
   ],
   "source": [
    "df_monthly = df_fix.groupby(['year', 'month'])[['profit']].sum() \n",
    "df_monthly"
   ]
  },
  {
   "cell_type": "code",
   "execution_count": 32,
   "metadata": {},
   "outputs": [
    {
     "name": "stdout",
     "output_type": "stream",
     "text": [
      "P-value: 1.790575112535683e-36\n"
     ]
    }
   ],
   "source": [
    "t_stat,p_val = stats.ttest_1samp(df_monthly.profit, 8864969.43 )\n",
    "print('P-value:', p_val/2)"
   ]
  },
  {
   "cell_type": "markdown",
   "metadata": {},
   "source": [
    "## Hasil hipotesis testing\n",
    "Pada kasus ini didapatkan `p-value < Critical` Value, hal ini menyebabkan terjadi penolakan pada H0 sehingga dapat disimpulkan kalau profit perbulan pada tahun 2021-2022 terakhir mengalami penurunan"
   ]
  },
  {
   "cell_type": "markdown",
   "metadata": {},
   "source": [
    "# KESIMPULAN \n",
    "Dari analisis data pada penjualan minuman keras di negara bagian IOWA USA,  dapat disimpulkan : \n",
    "1. Terdapat banyak data outlier yang berjumlah 2,017,797, sehingga perlu di bersihkan agar distribusi data tidak terlalu extreme.\n",
    "2. Total penjualan dan total profit terbanyak berbanding lurus, dengan trend yang fluktuatif. dan terjadi pada bulan Desember 2020, Desember 2021 dan Juni 2020\n",
    "3. Kota-kota yang menyumbang total pendapatan terbanyak dari penjualan minuman keras di negara bagian IOWA adalah : Des Moines, Cedar Rapids, Davenport\n",
    "4. Profit yang paling banyak didapatkan berasal dari produk :  American Vodkas, Canadian Whiskies, Straight  Bourbon Whiskies\n",
    "\n",
    "7. Dari hasil perhitungan central tendency didapatkan bahwa : \n",
    "-  rata-rata profit setiap produk mengalami penurunan setelah menghapus outlier\n",
    "-  Median profit pada setiap produk Mengalami penurunan setelah data outlier dihilangkan\n",
    "-  Namun nilai Modus pada data profit setiap produk tidak berubah walaupun data outlier sudah dihapus \n",
    "\n",
    "6. Dilakukan hipotesis testing untuk melihat rata-rata profit perbulan dalam 10 tahun terakhir. Didapatkan hasil bahwa pada tahun 2020-2021 pendapatan perbulan mengalami penurunan dari 8,864,969.43 USD menjadi 6,154,997.26 USD.\n",
    "\n",
    "## Solusi\n",
    "Diperlukan teknik marketing yang lebih baik agar dapat meningkatakan profit dalam penjualan minuman keras di negara bagian IOWA USA"
   ]
  },
  {
   "cell_type": "code",
   "execution_count": 33,
   "metadata": {},
   "outputs": [],
   "source": [
    "df_fix.to_csv('D:\\Hacktiv 8\\Full time Data Science\\Phase 0\\Milestone\\Milestone1\\Fix_data_sales_liquor.csv')"
   ]
  }
 ],
 "metadata": {
  "kernelspec": {
   "display_name": "Python 3.10.7 64-bit",
   "language": "python",
   "name": "python3"
  },
  "language_info": {
   "codemirror_mode": {
    "name": "ipython",
    "version": 3
   },
   "file_extension": ".py",
   "mimetype": "text/x-python",
   "name": "python",
   "nbconvert_exporter": "python",
   "pygments_lexer": "ipython3",
   "version": "3.10.7"
  },
  "orig_nbformat": 4,
  "vscode": {
   "interpreter": {
    "hash": "40504c34cc0d0808e66074c7de62a5c01802c9147c97fb094e1524d5f521609c"
   }
  }
 },
 "nbformat": 4,
 "nbformat_minor": 2
}
